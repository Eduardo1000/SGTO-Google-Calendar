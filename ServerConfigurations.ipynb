{
 "cells": [
  {
   "cell_type": "markdown",
   "metadata": {},
   "source": [
    "# Notebook to Test Database Functions"
   ]
  },
  {
   "cell_type": "markdown",
   "metadata": {},
   "source": [
    "### Import Functions"
   ]
  },
  {
   "cell_type": "code",
   "execution_count": 1,
   "metadata": {},
   "outputs": [],
   "source": [
    "from __future__ import print_function\n",
    "import datetime\n",
    "import pickle\n",
    "import os.path\n",
    "from google_auth_oauthlib.flow import InstalledAppFlow\n",
    "from google.auth.transport.requests import Request\n",
    "from methods import Calendar, Event\n",
    "from flask_sqlalchemy import SQLAlchemy\n",
    "from database_run import db, Disciplina, Curso, Departamento, Professor, Sala, Turma, Vinculo"
   ]
  },
  {
   "cell_type": "markdown",
   "metadata": {},
   "source": [
    "### Initialize Google Calendar API and Database"
   ]
  },
  {
   "cell_type": "code",
   "execution_count": 3,
   "metadata": {},
   "outputs": [],
   "source": [
    "SCOPES = ['https://www.googleapis.com/auth/calendar']\n",
    "creds = None\n",
    "if os.path.exists('token.pickle'):\n",
    "    with open('token.pickle', 'rb') as token:\n",
    "        creds = pickle.load(token)\n",
    "# If there are no (valid) credentials available, let the user log in.\n",
    "if not creds or not creds.valid:\n",
    "    if creds and creds.expired and creds.refresh_token:\n",
    "        creds.refresh(Request())\n",
    "    else:\n",
    "        flow = InstalledAppFlow.from_client_secrets_file(\n",
    "            'json_templates/credentials.json', SCOPES)\n",
    "        creds = flow.run_local_server()\n",
    "    # Save the credentials for the next run\n",
    "    with open('token.pickle', 'wb') as token:\n",
    "        pickle.dump(creds, token)\n",
    "\n",
    "calendar_object = Calendar(creds)\n",
    "event_object =  Event(creds)\n",
    "\n",
    "# Initialize db\n",
    "#db.drop_all()\n",
    "db.create_all()"
   ]
  },
  {
   "cell_type": "markdown",
   "metadata": {},
   "source": [
    "### Database Functions"
   ]
  },
  {
   "cell_type": "code",
   "execution_count": 40,
   "metadata": {},
   "outputs": [],
   "source": [
    "class DBM(): \n",
    "    # Core methods\n",
    "    def push(self, data):\n",
    "        db.session.add(data)\n",
    "        db.session.commit()\n",
    "        \n",
    "    # CRUD Operators\n",
    "    \n",
    "    # Database CREATE\n",
    "    def create_disciplina(self, nome, numero, sigla):\n",
    "        data = Disciplina(nome, numero, sigla)\n",
    "        self.push(data)\n",
    "        return data.id\n",
    "        \n",
    "    def create_professor(self, siape, nome, email, telefone, ramal, id_departamento, id_vinculo):\n",
    "        data = Professor(siape, nome, email, telefone, ramal, id_departamento, id_vinculo)\n",
    "        self.push(data)\n",
    "        return data.id\n",
    "    \n",
    "    def create_vinculo(self, nome):\n",
    "        data = Vinculo(nome)\n",
    "        self.push(data)\n",
    "        return data.id\n",
    "        \n",
    "    def create_departamento(self, nome, sigla, codigo):\n",
    "        data = Departamento(nome, sigla, codigo)\n",
    "        self.push(data)\n",
    "        return data.id\n",
    "        \n",
    "    def create_sala(self, nome, capacidade):\n",
    "        data = Sala(nome, capacidade)\n",
    "        self.push(data)\n",
    "        return data.id\n",
    "        \n",
    "    def create_turma(self, id_disciplina, id_departamento, numero, codigo=None):\n",
    "        if codigo == None:\n",
    "            disciplina = self.find_by_id(Disciplina, id_disciplina)\n",
    "            departamento = self.find_by_id(Departamento, id_departamento)\n",
    "            codigo = departamento.sigla + str(disciplina.numero) \n",
    "            \n",
    "        data = Turma(id_disciplina, id_departamento, numero, codigo)\n",
    "        self.push(data)\n",
    "        return data.id\n",
    "        \n",
    "    # Database UPDATE\n",
    "    \n",
    "    # Database DELETE\n",
    "    \n",
    "    # General Methods\n",
    "    def list(self, obj):\n",
    "        return obj.query.all()\n",
    "\n",
    "    def find_by_id(self, obj, id):\n",
    "        return obj.query.filter_by(id=id).first()\n"
   ]
  },
  {
   "cell_type": "markdown",
   "metadata": {},
   "source": [
    "### Creating Object"
   ]
  },
  {
   "cell_type": "code",
   "execution_count": 41,
   "metadata": {},
   "outputs": [
    {
     "data": {
      "text/plain": [
       "1"
      ]
     },
     "execution_count": 41,
     "metadata": {},
     "output_type": "execute_result"
    }
   ],
   "source": [
    "dbm = DBM()\n",
    "\n",
    "#dbm.create_disciplina('Nome',382,'Sigla')\n",
    "#dbm.create_departamento('Departamento de Dermato', 'DERM', 40012)\n",
    "#id_vinculo = dbm.create_vinculo('Aposentado')\n",
    "#dbm.create_professor(3020423, 'Joaquim', 'email', 'telefone', 'ramal', id_departamento=1, id_vinculo=1)\n",
    "#dbm.create_sala('F-100', 20)\n",
    "dbm.create_turma(id_disciplina=1, id_departamento=1, numero=23012)\n"
   ]
  },
  {
   "cell_type": "markdown",
   "metadata": {},
   "source": [
    "### Listing Object"
   ]
  },
  {
   "cell_type": "code",
   "execution_count": 42,
   "metadata": {},
   "outputs": [
    {
     "name": "stdout",
     "output_type": "stream",
     "text": [
      "Disciplina [<Disciplina 1>]\n",
      "Departamento [<Departamento 1>]\n",
      "Professor [<Professor 1>]\n",
      "Vinculo [<Vinculo 1>]\n",
      "Sala [<Sala 1>]\n",
      "Turma [<Turma 1>]\n"
     ]
    }
   ],
   "source": [
    "print('Disciplina', dbm.list(Disciplina))\n",
    "print('Departamento', dbm.list(Departamento))\n",
    "print('Professor', dbm.list(Professor))\n",
    "print('Vinculo', dbm.list(Vinculo))\n",
    "print('Sala', dbm.list(Sala))\n",
    "print('Turma', dbm.list(Turma))"
   ]
  },
  {
   "cell_type": "code",
   "execution_count": null,
   "metadata": {},
   "outputs": [],
   "source": []
  }
 ],
 "metadata": {
  "kernelspec": {
   "display_name": "Python 3",
   "language": "python",
   "name": "python3"
  },
  "language_info": {
   "codemirror_mode": {
    "name": "ipython",
    "version": 3
   },
   "file_extension": ".py",
   "mimetype": "text/x-python",
   "name": "python",
   "nbconvert_exporter": "python",
   "pygments_lexer": "ipython3",
   "version": "3.6.8"
  }
 },
 "nbformat": 4,
 "nbformat_minor": 2
}
